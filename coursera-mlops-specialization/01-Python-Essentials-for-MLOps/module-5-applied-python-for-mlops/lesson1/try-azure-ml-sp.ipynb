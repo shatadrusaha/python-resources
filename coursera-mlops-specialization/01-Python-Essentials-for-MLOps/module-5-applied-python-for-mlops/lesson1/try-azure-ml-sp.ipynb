{
 "cells": [
  {
   "cell_type": "markdown",
   "metadata": {},
   "source": [
    "# Try Azure ML Studio with a Service Principal\n",
    "This interactive Jupyter Notebook will allow you to setup infrastructure on Azure ML and authenticate using a Service Principal. \n",
    "\n",
    "Make sure you have enabled the following GitHub repository secrets:\n",
    "\n",
    "```\n",
    "SUBSCRIPTION_ID\n",
    "AZURE_SERVICE_PRINCIPAL_TENANT\n",
    "AZURE_SERVICE_PRINCIPAL_APPID\n",
    "AZURE_SERVICE_PRINCIPAL_PASSWORD\n",
    "```\n",
    "\n",
    "Optionally, you can add the following items to use a specific resource group, region, or existing workspace:\n",
    "\n",
    "```\n",
    "WORKSPACE_REGION\n",
    "RESOURCE_GROUP\n",
    "WORKSPACE_NAME\n",
    "```\n",
    "\n",
    "These are retrieved and set from the next cell"
   ]
  },
  {
   "cell_type": "code",
   "execution_count": 6,
   "metadata": {},
   "outputs": [],
   "source": [
    "import os\n",
    "\n",
    "# required\n",
    "subscription_id = os.environ[\"SUBSCRIPTION_ID\"]\n",
    "tenant_id = os.environ[\"TENANT_ID\"]\n",
    "service_principal_id = os.environ[\"AZURE_SERVICE_PRINCIPAL_APPID\"]\n",
    "service_principal_password = os.environ[\"AZURE_SERVICE_PRINCIPAL_PASSWORD\"]\n",
    "\n",
    "# optional\n",
    "resource_group = os.getenv(\"RESOURCE_GROUP\", default=\"demo-try-azureml\")\n",
    "workspace_name = os.getenv(\"WORKSPACE_NAME\", default=\"demo-try-azureml\")\n",
    "workspace_region = os.getenv(\"WORKSPACE_REGION\", default=\"eastus2\")\n"
   ]
  },
  {
   "cell_type": "markdown",
   "metadata": {},
   "source": [
    "## Define the Service Principal \n",
    "Use the environment variables to instantiate the Service Principal account so that it can be used to authenticate to Azure later"
   ]
  },
  {
   "cell_type": "code",
   "execution_count": 7,
   "metadata": {},
   "outputs": [],
   "source": [
    "from azureml.core import Workspace\n",
    "from azureml.core.authentication import ServicePrincipalAuthentication\n",
    "\n",
    "service_principal = ServicePrincipalAuthentication(\n",
    "    tenant_id=tenant_id,\n",
    "    service_principal_id=service_principal_id,\n",
    "    service_principal_password=service_principal_password\n",
    ")\n"
   ]
  },
  {
   "cell_type": "markdown",
   "metadata": {},
   "source": [
    "## Create the workspace \n",
    "Use the previously created configuration file to create the Azure ML workspace"
   ]
  },
  {
   "cell_type": "code",
   "execution_count": 8,
   "metadata": {},
   "outputs": [
    {
     "name": "stderr",
     "output_type": "stream",
     "text": [
      "UserWarning: The resource group doesn't exist or was not provided. AzureML SDK is creating a resource group=demo-try-azureml in location=eastus2 using subscription=d6ca5f37-5545-4db1-9c9e-9873f47a086b.\n"
     ]
    },
    {
     "name": "stdout",
     "output_type": "stream",
     "text": [
      "Deploying StorageAccount with name demotryastoragedc4163c49.\n",
      "Deploying KeyVault with name demotryakeyvault8f7f8fda.\n",
      "Deploying AppInsights with name demotryainsights67ca0475.\n",
      "Deployed AppInsights with name demotryainsights67ca0475. Took 1.29 seconds.\n",
      "Deployed KeyVault with name demotryakeyvault8f7f8fda. Took 16.59 seconds.\n",
      "Deploying Workspace with name demo-try-azureml.\n",
      "Deployed StorageAccount with name demotryastoragedc4163c49. Took 21.88 seconds.\n",
      "Deployed Workspace with name demo-try-azureml. Took 18.57 seconds.\n"
     ]
    }
   ],
   "source": [
    "# Create the workspace using the specified parameters\n",
    "ws = Workspace.create(name = workspace_name,\n",
    "                      subscription_id = subscription_id,\n",
    "                      resource_group = resource_group, \n",
    "                      location = workspace_region,\n",
    "                      auth=service_principal,\n",
    "                      create_resource_group = True,\n",
    "                      exist_ok = True)\n",
    "ws.get_details()\n",
    "\n",
    "# write the details of the workspace to a configuration file to the notebook library\n",
    "ws.write_config()"
   ]
  },
  {
   "cell_type": "code",
   "execution_count": 9,
   "metadata": {},
   "outputs": [
    {
     "name": "stdout",
     "output_type": "stream",
     "text": [
      "InProgress........\n",
      "SucceededProvisioning operation finished, operation \"Succeeded\"\n",
      "Succeeded\n",
      "AmlCompute wait for completion finished\n",
      "\n",
      "Minimum number of nodes requested have been provisioned\n"
     ]
    }
   ],
   "source": [
    "from azureml.core.compute import ComputeTarget, AmlCompute\n",
    "\n",
    "# define aml compute target(s) to create\n",
    "amlcomputes = {\n",
    "    \"cpu-cluster\": {\n",
    "        \"vm_size\": \"STANDARD_DS3_V2\",\n",
    "        \"min_nodes\": 0,\n",
    "        \"max_nodes\": 3,\n",
    "        \"idle_seconds_before_scaledown\": 240,\n",
    "    }\n",
    "}\n",
    "\n",
    "# create aml compute targets\n",
    "for ct_name in amlcomputes:\n",
    "    if ct_name not in ws.compute_targets:\n",
    "        compute_config = AmlCompute.provisioning_configuration(**amlcomputes[ct_name])\n",
    "        ct = ComputeTarget.create(ws, ct_name, compute_config)\n",
    "        ct.wait_for_completion(show_output=True)"
   ]
  },
  {
   "cell_type": "markdown",
   "metadata": {},
   "source": [
    "## Perform exploratory work\n",
    "You can now interact with the Azure ML Workspace, like train models, register datasets and models, or create an AutoML run"
   ]
  },
  {
   "cell_type": "code",
   "execution_count": null,
   "metadata": {},
   "outputs": [],
   "source": [
    "# exploratory work"
   ]
  },
  {
   "cell_type": "markdown",
   "metadata": {},
   "source": [
    "## Destroy workspace and resources\n",
    "The next cell will destroy all assets from the Azure ML workspace"
   ]
  },
  {
   "cell_type": "code",
   "execution_count": 10,
   "metadata": {},
   "outputs": [],
   "source": [
    "ws.delete(delete_dependent_resources=True, no_wait=False)"
   ]
  }
 ],
 "metadata": {
  "kernelspec": {
   "display_name": "Python 3.10.4 64-bit",
   "language": "python",
   "name": "python3"
  },
  "language_info": {
   "codemirror_mode": {
    "name": "ipython",
    "version": 3
   },
   "file_extension": ".py",
   "mimetype": "text/x-python",
   "name": "python",
   "nbconvert_exporter": "python",
   "pygments_lexer": "ipython3",
   "version": "3.10.4"
  },
  "orig_nbformat": 4,
  "vscode": {
   "interpreter": {
    "hash": "949777d72b0d2535278d3dc13498b2535136f6dfe0678499012e853ee9abcab1"
   }
  }
 },
 "nbformat": 4,
 "nbformat_minor": 2
}
