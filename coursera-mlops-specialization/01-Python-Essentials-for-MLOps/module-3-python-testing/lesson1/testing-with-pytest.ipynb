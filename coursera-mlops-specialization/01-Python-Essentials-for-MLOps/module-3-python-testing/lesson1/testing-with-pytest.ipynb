{
  "cells": [
    {
      "cell_type": "markdown",
      "metadata": {},
      "source": [
        "# Testing with Pytest\n",
        "As with any Python project, create a virtual environment:\n",
        "\n",
        "```\n",
        "$ python -m venv venv\n",
        "$ source venv/bin/activate\n",
        "```\n",
        "\n",
        "And then install Pytest:\n",
        "\n",
        "```\n",
        "$ pip install pytest\n",
        "```\n",
        "\n",
        "Add it to a `requirements.txt` file so you don't forget to install it next time"
      ]
    },
    {
      "cell_type": "markdown",
      "metadata": {
        "id": "QDK7iRmbNUb3"
      },
      "source": [
        "### Tests can be functions or classes\n",
        "\n",
        "```python\n",
        "def test_my_function():\n",
        "  assert 1 == 1\n",
        "```\n",
        "\n",
        "Classes do not need inheritance:\n",
        "\n",
        "```python\n",
        "class TestMyClass:\n",
        "\n",
        "  def test_my_method(self):\n",
        "    assert 1 == 1\n",
        "```\n"
      ]
    },
    {
      "cell_type": "markdown",
      "metadata": {},
      "source": [
        "## Hands-on installing and running\n",
        "For the next operations, switch to the terminal. After Pytest installation,  change directories to the `examples` directory to run `pytest`\n",
        "\n",
        "In that directory you will have a single"
      ]
    },
    {
      "cell_type": "code",
      "execution_count": 6,
      "metadata": {
        "colab": {
          "base_uri": "https://localhost:8080/"
        },
        "id": "BG1wvESCQ5mi",
        "outputId": "c9204060-3f49-4b16-a123-a01395789d9e"
      },
      "outputs": [
        {
          "name": "stdout",
          "output_type": "stream",
          "text": [
            "\u001b[1m============================= test session starts ==============================\u001b[0m\n",
            "platform darwin -- Python 3.11.10, pytest-8.3.5, pluggy-1.5.0 -- /Users/shaz/Study/github/coursera-duke-university-mlops-specialization/Python-Essentials-for-MLOps/.venv/bin/python3\n",
            "cachedir: .pytest_cache\n",
            "rootdir: /Users/shaz/Study/github/coursera-duke-university-mlops-specialization/Python-Essentials-for-MLOps\n",
            "configfile: pyproject.toml\n",
            "collected 0 items                                                              \u001b[0m\n",
            "\n",
            "\u001b[33m============================ \u001b[33mno tests ran\u001b[0m\u001b[33m in 0.00s\u001b[0m\u001b[33m =============================\u001b[0m\n",
            "\u001b[31mERROR: file or directory not found: test_util.py\n",
            "\u001b[0m\n"
          ]
        }
      ],
      "source": [
        "!pytest -vvvv test_util.py"
      ]
    },
    {
      "cell_type": "code",
      "execution_count": 1,
      "metadata": {
        "colab": {
          "base_uri": "https://localhost:8080/"
        },
        "id": "nNeTAGeeIgTw",
        "outputId": "05e376e0-beb7-41c0-86f1-918f3b3f86c2"
      },
      "outputs": [
        {
          "name": "stdout",
          "output_type": "stream",
          "text": [
            "Cloning into 'barebones'...\n",
            "remote: Enumerating objects: 63, done.\u001b[K\n",
            "remote: Counting objects: 100% (63/63), done.\u001b[K\n",
            "remote: Compressing objects: 100% (42/42), done.\u001b[K\n",
            "remote: Total 63 (delta 20), reused 34 (delta 7), pack-reused 0 (from 0)\u001b[K\n",
            "Receiving objects: 100% (63/63), 10.62 KiB | 5.31 MiB/s, done.\n",
            "Resolving deltas: 100% (20/20), done.\n",
            "zsh:1: command not found: apt\n"
          ]
        }
      ],
      "source": [
        "!git clone https://github.com/alfredodeza/barebones\n",
        "!apt install tree"
      ]
    },
    {
      "cell_type": "code",
      "execution_count": 2,
      "metadata": {
        "colab": {
          "base_uri": "https://localhost:8080/"
        },
        "id": "elgKeUAGCFVU",
        "outputId": "18dc16ae-0efb-4957-ef7e-55d1e6cfdee0"
      },
      "outputs": [
        {
          "name": "stdout",
          "output_type": "stream",
          "text": [
            "zsh:1: command not found: tree\n"
          ]
        }
      ],
      "source": [
        "!tree barebones"
      ]
    },
    {
      "cell_type": "code",
      "execution_count": 3,
      "metadata": {
        "colab": {
          "base_uri": "https://localhost:8080/"
        },
        "id": "6_uzdOoZCMzf",
        "outputId": "190f9a7d-e935-432b-bfa6-dedbc905dac9"
      },
      "outputs": [
        {
          "name": "stdout",
          "output_type": "stream",
          "text": [
            "zsh:1: command not found: pip\n"
          ]
        }
      ],
      "source": [
        "!pip install pytest"
      ]
    },
    {
      "cell_type": "code",
      "execution_count": 4,
      "metadata": {
        "colab": {
          "base_uri": "https://localhost:8080/"
        },
        "id": "a_3KHipCIodd",
        "outputId": "3f4f1bfd-1ee3-4f47-97a9-d7f1f070ddc1"
      },
      "outputs": [
        {
          "name": "stdout",
          "output_type": "stream",
          "text": [
            "\u001b[1m============================= test session starts ==============================\u001b[0m\n",
            "platform darwin -- Python 3.11.10, pytest-8.3.5, pluggy-1.5.0\n",
            "rootdir: /Users/shaz/Study/github/coursera-duke-university-mlops-specialization/Python-Essentials-for-MLOps\n",
            "configfile: pyproject.toml\n",
            "collected 3 items / 1 error                                                    \u001b[0m\n",
            "\n",
            "==================================== ERRORS ====================================\n",
            "\u001b[31m\u001b[1m____________ ERROR collecting barebones/jformat/tests/test_main.py _____________\u001b[0m\n",
            "\u001b[31mImportError while importing test module '/Users/shaz/Study/github/coursera-duke-university-mlops-specialization/Python-Essentials-for-MLOps/barebones/jformat/tests/test_main.py'.\n",
            "Hint: make sure your test modules/packages have valid Python names.\n",
            "Traceback:\n",
            "\u001b[1m\u001b[31m/Users/shaz/.local/share/uv/python/cpython-3.11.10-macos-aarch64-none/lib/python3.11/importlib/__init__.py\u001b[0m:126: in import_module\n",
            "    \u001b[0m\u001b[94mreturn\u001b[39;49;00m _bootstrap._gcd_import(name[level:], package, level)\u001b[90m\u001b[39;49;00m\n",
            "\u001b[1m\u001b[31mbarebones/jformat/tests/test_main.py\u001b[0m:1: in <module>\n",
            "    \u001b[0m\u001b[94mfrom\u001b[39;49;00m\u001b[90m \u001b[39;49;00m\u001b[04m\u001b[96mjformat\u001b[39;49;00m\u001b[90m \u001b[39;49;00m\u001b[94mimport\u001b[39;49;00m main\u001b[90m\u001b[39;49;00m\n",
            "\u001b[1m\u001b[31mbarebones/jformat/main.py\u001b[0m:4: in <module>\n",
            "    \u001b[0m\u001b[94mimport\u001b[39;49;00m\u001b[90m \u001b[39;49;00m\u001b[04m\u001b[96mpkg_resources\u001b[39;49;00m\u001b[90m\u001b[39;49;00m\n",
            "\u001b[1m\u001b[31mE   ModuleNotFoundError: No module named 'pkg_resources'\u001b[0m\u001b[0m\n",
            "\u001b[36m\u001b[1m=========================== short test summary info ============================\u001b[0m\n",
            "\u001b[31mERROR\u001b[0m barebones/jformat/tests/test_main.py\n",
            "!!!!!!!!!!!!!!!!!!!! Interrupted: 1 error during collection !!!!!!!!!!!!!!!!!!!!\n",
            "\u001b[31m=============================== \u001b[31m\u001b[1m1 error\u001b[0m\u001b[31m in 0.06s\u001b[0m\u001b[31m ===============================\u001b[0m\n"
          ]
        }
      ],
      "source": [
        "!pytest barebones"
      ]
    },
    {
      "cell_type": "code",
      "execution_count": 5,
      "metadata": {
        "colab": {
          "base_uri": "https://localhost:8080/"
        },
        "id": "3ZtMp20lVyHk",
        "outputId": "0c6ec4d7-f92b-4221-8e55-8a1f16390bc1"
      },
      "outputs": [
        {
          "name": "stdout",
          "output_type": "stream",
          "text": [
            "\u001b[1m============================= test session starts ==============================\u001b[0m\n",
            "platform darwin -- Python 3.11.10, pytest-8.3.5, pluggy-1.5.0\n",
            "rootdir: /Users/shaz/Study/github/coursera-duke-university-mlops-specialization/Python-Essentials-for-MLOps\n",
            "configfile: pyproject.toml\n",
            "collected 3 items / 1 error                                                    \u001b[0m\n",
            "\n",
            "<Dir Python-Essentials-for-MLOps>\n",
            "  <Dir barebones>\n",
            "    <Package jformat>\n",
            "      <Package tests>\n",
            "        <Module test_verify_output.py>\n",
            "          <Class TestLongComparisons>\n",
            "            <Function test_compare_large_strings>\n",
            "            <Function test_basic>\n",
            "            <Function test_compare_large_lists_to_none>\n",
            "\n",
            "==================================== ERRORS ====================================\n",
            "\u001b[31m\u001b[1m____________ ERROR collecting barebones/jformat/tests/test_main.py _____________\u001b[0m\n",
            "\u001b[31mImportError while importing test module '/Users/shaz/Study/github/coursera-duke-university-mlops-specialization/Python-Essentials-for-MLOps/barebones/jformat/tests/test_main.py'.\n",
            "Hint: make sure your test modules/packages have valid Python names.\n",
            "Traceback:\n",
            "\u001b[1m\u001b[31m/Users/shaz/.local/share/uv/python/cpython-3.11.10-macos-aarch64-none/lib/python3.11/importlib/__init__.py\u001b[0m:126: in import_module\n",
            "    \u001b[0m\u001b[94mreturn\u001b[39;49;00m _bootstrap._gcd_import(name[level:], package, level)\u001b[90m\u001b[39;49;00m\n",
            "\u001b[1m\u001b[31mbarebones/jformat/tests/test_main.py\u001b[0m:1: in <module>\n",
            "    \u001b[0m\u001b[94mfrom\u001b[39;49;00m\u001b[90m \u001b[39;49;00m\u001b[04m\u001b[96mjformat\u001b[39;49;00m\u001b[90m \u001b[39;49;00m\u001b[94mimport\u001b[39;49;00m main\u001b[90m\u001b[39;49;00m\n",
            "\u001b[1m\u001b[31mbarebones/jformat/main.py\u001b[0m:4: in <module>\n",
            "    \u001b[0m\u001b[94mimport\u001b[39;49;00m\u001b[90m \u001b[39;49;00m\u001b[04m\u001b[96mpkg_resources\u001b[39;49;00m\u001b[90m\u001b[39;49;00m\n",
            "\u001b[1m\u001b[31mE   ModuleNotFoundError: No module named 'pkg_resources'\u001b[0m\u001b[0m\n",
            "\u001b[36m\u001b[1m=========================== short test summary info ============================\u001b[0m\n",
            "\u001b[31mERROR\u001b[0m barebones/jformat/tests/test_main.py\n",
            "!!!!!!!!!!!!!!!!!!!! Interrupted: 1 error during collection !!!!!!!!!!!!!!!!!!!!\n",
            "\u001b[31m===================== \u001b[32m3 tests collected\u001b[0m, \u001b[31m1 error\u001b[0m\u001b[31m in 0.05s\u001b[0m\u001b[31m ======================\u001b[0m\n"
          ]
        }
      ],
      "source": [
        "!pytest --collect-only barebones"
      ]
    },
    {
      "cell_type": "markdown",
      "metadata": {
        "id": "362hTtzlPzpm"
      },
      "source": [
        "Inspect the files around the [barebones project](https://github.com/alfredodeza/barebones). It is a simple project that sorts and prettifies JSON to `stdout` or in a file."
      ]
    }
  ],
  "metadata": {
    "colab": {
      "collapsed_sections": [],
      "name": "Introduction to Pytest.ipynb",
      "provenance": []
    },
    "kernelspec": {
      "display_name": ".venv",
      "language": "python",
      "name": "python3"
    },
    "language_info": {
      "codemirror_mode": {
        "name": "ipython",
        "version": 3
      },
      "file_extension": ".py",
      "mimetype": "text/x-python",
      "name": "python",
      "nbconvert_exporter": "python",
      "pygments_lexer": "ipython3",
      "version": "3.11.10"
    }
  },
  "nbformat": 4,
  "nbformat_minor": 0
}
